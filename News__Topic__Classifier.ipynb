{
 "cells": [
  {
   "cell_type": "markdown",
   "id": "3b9e0d86",
   "metadata": {},
   "source": [
    "#  News Topic Classifier\n",
    "\n",
    "End-to-end ML/NLP project you can run locally.\n",
    "\n",
    "**Highlights**\n",
    "- Dataset: scikit-learn **20 Newsgroups** (text classification)\n",
    "- Pipeline: **TF‑IDF** → **LinearSVC**\n",
    "- EDA, metrics, confusion matrix, **top features per class**\n",
    "- **GridSearchCV** for hyperparameter tuning\n",
    "- Save & load model with **joblib**"
   ]
  },
  {
   "cell_type": "code",
   "execution_count": 7,
   "id": "a1d8dfd6",
   "metadata": {},
   "outputs": [
    {
     "name": "stdout",
     "output_type": "stream",
     "text": [
      "Python: 3.11.13\n",
      "pandas: 2.3.3\n",
      "numpy: 2.3.3\n",
      "scikit-learn: 1.7.2\n",
      "matplotlib: 3.10.6\n"
     ]
    }
   ],
   "source": [
    "import sys, os, numpy as np, pandas as pd, matplotlib\n",
    "import sklearn\n",
    "print(\"Python:\", sys.version.split()[0])\n",
    "print(\"pandas:\", pd.__version__)\n",
    "print(\"numpy:\", np.__version__)\n",
    "print(\"scikit-learn:\", sklearn.__version__)\n",
    "print(\"matplotlib:\", matplotlib.__version__)"
   ]
  },
  {
   "cell_type": "markdown",
   "id": "c25b1c87",
   "metadata": {},
   "source": [
    "## 1) Load Dataset"
   ]
  },
  {
   "cell_type": "code",
   "execution_count": 8,
   "id": "92bb86e6",
   "metadata": {},
   "outputs": [
    {
     "data": {
      "text/plain": [
       "(4493,\n",
       " 2991,\n",
       " ['comp.graphics',\n",
       "  'comp.sys.ibm.pc.hardware',\n",
       "  'rec.autos',\n",
       "  'rec.sport.baseball',\n",
       "  'sci.med'])"
      ]
     },
     "execution_count": 8,
     "metadata": {},
     "output_type": "execute_result"
    }
   ],
   "source": [
    "from sklearn.datasets import fetch_20newsgroups\n",
    "\n",
    "# Choosing a subset of categories to keep training fast & balanced\n",
    "categories = [\n",
    "    \"comp.graphics\",\n",
    "    \"rec.autos\",\n",
    "    \"sci.space\",\n",
    "    \"sci.med\",\n",
    "    \"rec.sport.baseball\",\n",
    "    \"talk.politics.mideast\",\n",
    "    \"talk.religion.misc\",\n",
    "    \"comp.sys.ibm.pc.hardware\",\n",
    "]\n",
    "\n",
    "remove = (\"headers\", \"footers\", \"quotes\")\n",
    "\n",
    "train_data = fetch_20newsgroups(subset=\"train\", categories=categories, remove=remove)\n",
    "test_data  = fetch_20newsgroups(subset=\"test\",  categories=categories, remove=remove)\n",
    "\n",
    "X_train, y_train = train_data.data, train_data.target\n",
    "X_test,  y_test  = test_data.data,  test_data.target\n",
    "target_names = train_data.target_names\n",
    "\n",
    "len(X_train), len(X_test), target_names[:5]"
   ]
  },
  {
   "cell_type": "markdown",
   "id": "24bb0198",
   "metadata": {},
   "source": [
    "## 2) EDA"
   ]
  },
  {
   "cell_type": "code",
   "execution_count": 9,
   "id": "9bd253ff",
   "metadata": {},
   "outputs": [
    {
     "name": "stdout",
     "output_type": "stream",
     "text": [
      "label\n",
      "rec.sport.baseball          597\n",
      "sci.med                     594\n",
      "rec.autos                   594\n",
      "sci.space                   593\n",
      "comp.sys.ibm.pc.hardware    590\n",
      "comp.graphics               584\n",
      "talk.politics.mideast       564\n",
      "talk.religion.misc          377\n",
      "Name: count, dtype: int64\n"
     ]
    },
    {
     "data": {
      "text/html": [
       "<div>\n",
       "<style scoped>\n",
       "    .dataframe tbody tr th:only-of-type {\n",
       "        vertical-align: middle;\n",
       "    }\n",
       "\n",
       "    .dataframe tbody tr th {\n",
       "        vertical-align: top;\n",
       "    }\n",
       "\n",
       "    .dataframe thead th {\n",
       "        text-align: right;\n",
       "    }\n",
       "</style>\n",
       "<table border=\"1\" class=\"dataframe\">\n",
       "  <thead>\n",
       "    <tr style=\"text-align: right;\">\n",
       "      <th></th>\n",
       "      <th>label</th>\n",
       "      <th>text</th>\n",
       "    </tr>\n",
       "  </thead>\n",
       "  <tbody>\n",
       "    <tr>\n",
       "      <th>1974</th>\n",
       "      <td>rec.autos</td>\n",
       "      <td>\\n\\n What I don't understand is why \\n\\n\\n\\nYe...</td>\n",
       "    </tr>\n",
       "    <tr>\n",
       "      <th>2835</th>\n",
       "      <td>sci.space</td>\n",
       "      <td>\\nVoyager  has the unusual  luck to be on a st...</td>\n",
       "    </tr>\n",
       "    <tr>\n",
       "      <th>536</th>\n",
       "      <td>talk.politics.mideast</td>\n",
       "      <td>\\nOY] Henrik (?),\\nOY] Your ignorance manifest...</td>\n",
       "    </tr>\n",
       "  </tbody>\n",
       "</table>\n",
       "</div>"
      ],
      "text/plain": [
       "                      label                                               text\n",
       "1974              rec.autos  \\n\\n What I don't understand is why \\n\\n\\n\\nYe...\n",
       "2835              sci.space  \\nVoyager  has the unusual  luck to be on a st...\n",
       "536   talk.politics.mideast  \\nOY] Henrik (?),\\nOY] Your ignorance manifest..."
      ]
     },
     "execution_count": 9,
     "metadata": {},
     "output_type": "execute_result"
    }
   ],
   "source": [
    "import pandas as pd, numpy as np\n",
    "train_df = pd.DataFrame({\"text\": X_train, \"y\": y_train})\n",
    "train_df[\"label\"] = train_df[\"y\"].apply(lambda i: target_names[i])\n",
    "print(train_df[\"label\"].value_counts())\n",
    "train_df.sample(3)[[\"label\", \"text\"]]"
   ]
  },
  {
   "cell_type": "markdown",
   "id": "fafd44ed",
   "metadata": {},
   "source": [
    "## 3) Build Pipeline & Train"
   ]
  },
  {
   "cell_type": "code",
   "execution_count": 10,
   "id": "15314397",
   "metadata": {},
   "outputs": [
    {
     "data": {
      "text/plain": [
       "'Model trained!'"
      ]
     },
     "execution_count": 10,
     "metadata": {},
     "output_type": "execute_result"
    }
   ],
   "source": [
    "from sklearn.pipeline import Pipeline\n",
    "from sklearn.feature_extraction.text import TfidfVectorizer\n",
    "from sklearn.svm import LinearSVC\n",
    "\n",
    "pipe = Pipeline([\n",
    "    (\"tfidf\", TfidfVectorizer(stop_words=\"english\", ngram_range=(1,2), min_df=2, max_df=0.9)),\n",
    "    (\"clf\", LinearSVC(C=1.0))\n",
    "])\n",
    "\n",
    "pipe.fit(X_train, y_train)\n",
    "\"Model trained!\" "
   ]
  },
  {
   "cell_type": "markdown",
   "id": "4a46fbb4",
   "metadata": {},
   "source": [
    "## 4) Evaluate"
   ]
  },
  {
   "cell_type": "code",
   "execution_count": 11,
   "id": "5e7302d6",
   "metadata": {},
   "outputs": [
    {
     "name": "stdout",
     "output_type": "stream",
     "text": [
      "Accuracy: 0.8385\n",
      "                          precision    recall  f1-score   support\n",
      "\n",
      "           comp.graphics       0.82      0.83      0.82       389\n",
      "comp.sys.ibm.pc.hardware       0.88      0.87      0.88       392\n",
      "               rec.autos       0.72      0.89      0.80       396\n",
      "      rec.sport.baseball       0.88      0.88      0.88       397\n",
      "                 sci.med       0.85      0.83      0.84       396\n",
      "               sci.space       0.87      0.79      0.83       394\n",
      "   talk.politics.mideast       0.90      0.86      0.88       376\n",
      "      talk.religion.misc       0.83      0.71      0.76       251\n",
      "\n",
      "                accuracy                           0.84      2991\n",
      "               macro avg       0.84      0.83      0.84      2991\n",
      "            weighted avg       0.84      0.84      0.84      2991\n",
      "\n"
     ]
    },
    {
     "data": {
      "image/png": "[encoded data removed]",
      "text/plain": [
       "<Figure size 640x480 with 1 Axes>"
      ]
     },
     "metadata": {},
     "output_type": "display_data"
    }
   ],
   "source": [
    "from sklearn.metrics import classification_report, confusion_matrix, accuracy_score\n",
    "import matplotlib.pyplot as plt\n",
    "\n",
    "preds = pipe.predict(X_test)\n",
    "print(\"Accuracy:\", round(accuracy_score(y_test, preds), 4))\n",
    "print(classification_report(y_test, preds, target_names=target_names))\n",
    "\n",
    "cm = confusion_matrix(y_test, preds)\n",
    "fig = plt.figure()\n",
    "plt.imshow(cm, interpolation=\"nearest\")\n",
    "plt.title(\"Confusion Matrix\")\n",
    "plt.xticks(range(len(target_names)), target_names, rotation=90)\n",
    "plt.yticks(range(len(target_names)), target_names)\n",
    "for i in range(cm.shape[0]):\n",
    "    for j in range(cm.shape[1]):\n",
    "        plt.text(j, i, cm[i, j], ha=\"center\", va=\"center\", fontsize=8)\n",
    "plt.xlabel(\"Predicted\"); plt.ylabel(\"True\")\n",
    "plt.tight_layout(); plt.show()"
   ]
  },
  {
   "cell_type": "markdown",
   "id": "b454bf98",
   "metadata": {},
   "source": [
    "## 5) Top Features per Class"
   ]
  },
  {
   "cell_type": "code",
   "execution_count": 12,
   "id": "0ce52c83",
   "metadata": {},
   "outputs": [
    {
     "name": "stdout",
     "output_type": "stream",
     "text": [
      "\n",
      "Top terms for class: comp.graphics\n",
      "graphics, image, 3d, 68070, file, package, code, animation, files, 3do, algorithm, pov, images, tiff, polygon\n",
      "\n",
      "Top terms for class: comp.sys.ibm.pc.hardware\n",
      "monitor, drive, card, motherboard, scsi, disk, pc, bios, port, memory, bus, board, ide, gateway, cpu\n",
      "\n",
      "Top terms for class: rec.autos\n",
      "car, cars, ford, oil, engine, dealer, toyota, auto, honda, gt, vw, tires, bmw, ites, rear\n",
      "\n",
      "Top terms for class: rec.sport.baseball\n",
      "baseball, stadium, team, cubs, game, games, year, players, ball, phillies, season, alomar, league, braves, teams\n",
      "\n",
      "Top terms for class: sci.med\n",
      "doctor, medical, msg, disease, treatment, health, cancer, pain, effects, diet, needles, drugs, patients, skin, eye\n",
      "\n",
      "Top terms for class: sci.space\n",
      "space, orbit, spacecraft, nasa, launch, moon, shuttle, solar, flight, dc, earth, lunar, mars, mining, centaur\n",
      "\n",
      "Top terms for class: talk.politics.mideast\n",
      "israel, israeli, jews, turkish, loser, arab, armenians, retarded, turkey, arabs, armenian, peace, lebanon, adl, ihr\n",
      "\n",
      "Top terms for class: talk.religion.misc\n",
      "god, koresh, jesus, kent, objective, fbi, christians, bible, christian, tyre, moral, lord, wrong, beliefs, ye\n"
     ]
    }
   ],
   "source": [
    "# Extract top features using LinearSVC coefficients\n",
    "clf = pipe.named_steps[\"clf\"]\n",
    "tfidf = pipe.named_steps[\"tfidf\"]\n",
    "feature_names = np.array(tfidf.get_feature_names_out())\n",
    "\n",
    "def top_terms_per_class(class_index, top_n=15):\n",
    "    # For LinearSVC (one-vs-rest), coef_ shape = [n_classes, n_features]\n",
    "    coefs = clf.coef_[class_index]\n",
    "    top_ids = np.argsort(coefs)[-top_n:][::-1]\n",
    "    return feature_names[top_ids]\n",
    "\n",
    "for i, name in enumerate(target_names):\n",
    "    print(f\"\\nTop terms for class: {name}\")\n",
    "    print(\", \".join(top_terms_per_class(i)))"
   ]
  },
  {
   "cell_type": "markdown",
   "id": "d8ed7156",
   "metadata": {},
   "source": [
    "## 6) Hyperparameter Tuning (GridSearchCV)"
   ]
  },
  {
   "cell_type": "code",
   "execution_count": 13,
   "id": "9c93a003",
   "metadata": {},
   "outputs": [
    {
     "name": "stdout",
     "output_type": "stream",
     "text": [
      "Fitting 3 folds for each of 6 candidates, totalling 18 fits\n",
      "Best params: {'clf__C': 0.5, 'tfidf__ngram_range': (1, 1)}\n",
      "Best CV score: 0.848\n",
      "Test accuracy (best model): 0.8392\n"
     ]
    }
   ],
   "source": [
    "from sklearn.model_selection import GridSearchCV\n",
    "\n",
    "param_grid = {\n",
    "    \"tfidf__ngram_range\": [(1,1), (1,2)],\n",
    "    \"clf__C\": [0.5, 1.0, 2.0]\n",
    "}\n",
    "grid = GridSearchCV(pipe, param_grid, cv=3, n_jobs=-1, verbose=1)\n",
    "grid.fit(X_train, y_train)\n",
    "\n",
    "print(\"Best params:\", grid.best_params_)\n",
    "print(\"Best CV score:\", round(grid.best_score_, 4))\n",
    "\n",
    "best_model = grid.best_estimator_\n",
    "print(\"Test accuracy (best model):\", round(accuracy_score(y_test, best_model.predict(X_test)), 4))"
   ]
  },
  {
   "cell_type": "markdown",
   "id": "8acc04ec",
   "metadata": {},
   "source": [
    "## 7) Save Model & Try Predictions"
   ]
  },
  {
   "cell_type": "code",
   "execution_count": 14,
   "id": "fe98ab1c",
   "metadata": {},
   "outputs": [
    {
     "name": "stdout",
     "output_type": "stream",
     "text": [
      "Saved model to: /Users/bandaanusha/Documents/AI-Projects/news_topic_svm.joblib\n"
     ]
    },
    {
     "data": {
      "text/plain": [
       "['sci.space', 'comp.graphics', 'rec.sport.baseball']"
      ]
     },
     "execution_count": 14,
     "metadata": {},
     "output_type": "execute_result"
    }
   ],
   "source": [
    "import joblib, os\n",
    "\n",
    "artifact = os.path.abspath(\"news_topic_svm.joblib\")\n",
    "joblib.dump(best_model, artifact)\n",
    "print(\"Saved model to:\", artifact)\n",
    "\n",
    "# Attach target_names to the pipeline for the Streamlit app\n",
    "setattr(best_model, \"target_names_\", target_names)\n",
    "\n",
    "def predict(texts):\n",
    "    pred_idx = best_model.predict(texts)\n",
    "    return [target_names[i] for i in pred_idx]\n",
    "\n",
    "samples = [\n",
    "    \"The Hubble telescope captured new images of a distant galaxy cluster.\",\n",
    "    \"My new graphics card struggles with ray tracing in the latest game.\",\n",
    "    \"The team traded two pitchers before the baseball season opener.\"\n",
    "]\n",
    "predict(samples)"
   ]
  }
 ],
 "metadata": {
  "kernelspec": {
   "display_name": "Python (ai)",
   "language": "python",
   "name": "ai"
  },
  "language_info": {
   "codemirror_mode": {
    "name": "ipython",
    "version": 3
   },
   "file_extension": ".py",
   "mimetype": "text/x-python",
   "name": "python",
   "nbconvert_exporter": "python",
   "pygments_lexer": "ipython3",
   "version": "3.11.13"
  }
 },
 "nbformat": 4,
 "nbformat_minor": 5
}
